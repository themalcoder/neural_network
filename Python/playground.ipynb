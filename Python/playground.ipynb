{
 "metadata": {
  "language_info": {
   "codemirror_mode": {
    "name": "ipython",
    "version": 3
   },
   "file_extension": ".py",
   "mimetype": "text/x-python",
   "name": "python",
   "nbconvert_exporter": "python",
   "pygments_lexer": "ipython3",
   "version": "3.8.3"
  },
  "orig_nbformat": 2,
  "kernelspec": {
   "name": "python383jvsc74a57bd0b3ba2566441a7c06988d0923437866b63cedc61552a5af99d1f4fb67d367b25f",
   "display_name": "Python 3.8.3 64-bit ('base': conda)"
  }
 },
 "nbformat": 4,
 "nbformat_minor": 2,
 "cells": [
  {
   "cell_type": "code",
   "execution_count": 1,
   "metadata": {},
   "outputs": [],
   "source": [
    "import numpy as np\n",
    "import pandas as pd"
   ]
  },
  {
   "source": [
    "## Datasets\n",
    "#### All Cases (Dataset): https://github.com/owid/covid-19-data/blob/master/public/data/jhu/new_cases.csv\n",
    "#### Latest Dataset: https://github.com/owid/covid-19-data/blob/master/public/data/latest/owid-covid-latest.csv\n",
    "\n",
    "#### (Total) Deaths Dataset : https://github.com/owid/covid-19-data/blob/master/public/data/jhu/total_deaths.csv"
   ],
   "cell_type": "markdown",
   "metadata": {}
  },
  {
   "cell_type": "code",
   "execution_count": 14,
   "metadata": {},
   "outputs": [],
   "source": [
    "new_cases = pd.read_csv('datasets/new_cases.csv')\n",
    "deaths = pd.read_csv('datasets/total_deaths.csv')"
   ]
  },
  {
   "cell_type": "code",
   "execution_count": 18,
   "metadata": {},
   "outputs": [
    {
     "output_type": "execute_result",
     "data": {
      "text/plain": [
       "0           NaN\n",
       "1           NaN\n",
       "2           NaN\n",
       "3           NaN\n",
       "4           NaN\n",
       "         ...   \n",
       "438    103558.0\n",
       "439     96982.0\n",
       "440    115736.0\n",
       "441    126789.0\n",
       "442    131968.0\n",
       "Name: India, Length: 443, dtype: float64"
      ]
     },
     "metadata": {},
     "execution_count": 18
    }
   ],
   "source": [
    "new_cases.India"
   ]
  },
  {
   "cell_type": "code",
   "execution_count": 17,
   "metadata": {},
   "outputs": [
    {
     "output_type": "execute_result",
     "data": {
      "text/plain": [
       "           date     World  Afghanistan   Africa  Albania  Algeria  Andorra  \\\n",
       "0    2020-01-22       0.0          NaN      NaN      NaN      NaN      NaN   \n",
       "1    2020-01-23      98.0          NaN      NaN      NaN      NaN      NaN   \n",
       "2    2020-01-24     286.0          NaN      NaN      NaN      NaN      NaN   \n",
       "3    2020-01-25     492.0          NaN      NaN      NaN      NaN      NaN   \n",
       "4    2020-01-26     685.0          NaN      NaN      NaN      NaN      NaN   \n",
       "..          ...       ...          ...      ...      ...      ...      ...   \n",
       "438  2021-04-04  552763.0         81.0   9503.0    348.0     98.0     57.0   \n",
       "439  2021-04-05  489699.0         41.0   9254.0    264.0    117.0     55.0   \n",
       "440  2021-04-06  605501.0         62.0   9576.0    141.0    140.0     42.0   \n",
       "441  2021-04-07  684346.0         94.0  11674.0    256.0    125.0     35.0   \n",
       "442  2021-04-08  839850.0         70.0  16829.0    317.0    112.0     46.0   \n",
       "\n",
       "     Angola  Antigua and Barbuda  Argentina  ...  United States  Uruguay  \\\n",
       "0       NaN                  NaN        NaN  ...            NaN      NaN   \n",
       "1       NaN                  NaN        NaN  ...            0.0      NaN   \n",
       "2       NaN                  NaN        NaN  ...            1.0      NaN   \n",
       "3       NaN                  NaN        NaN  ...            0.0      NaN   \n",
       "4       NaN                  NaN        NaN  ...            3.0      NaN   \n",
       "..      ...                  ...        ...  ...            ...      ...   \n",
       "438    52.0                  0.0     9955.0  ...        34932.0   3853.0   \n",
       "439    86.0                  3.0    13667.0  ...        77794.0   2201.0   \n",
       "440   168.0                  0.0    20870.0  ...        61958.0   3105.0   \n",
       "441   125.0                  4.0    22039.0  ...        75038.0   3924.0   \n",
       "442    98.0                  3.0    23683.0  ...        79878.0   3670.0   \n",
       "\n",
       "     Uzbekistan  Vanuatu  Vatican  Venezuela  Vietnam  Yemen  Zambia  Zimbabwe  \n",
       "0           NaN      NaN      NaN        NaN      NaN    NaN     NaN       NaN  \n",
       "1           NaN      NaN      NaN        NaN      2.0    NaN     NaN       NaN  \n",
       "2           NaN      NaN      NaN        NaN      0.0    NaN     NaN       NaN  \n",
       "3           NaN      NaN      NaN        NaN      0.0    NaN     NaN       NaN  \n",
       "4           NaN      NaN      NaN        NaN      0.0    NaN     NaN       NaN  \n",
       "..          ...      ...      ...        ...      ...    ...     ...       ...  \n",
       "438       188.0      0.0      0.0     1786.0      5.0  101.0   130.0      12.0  \n",
       "439       179.0      0.0      0.0     1425.0      6.0   83.0    79.0      11.0  \n",
       "440       133.0      0.0      0.0     1526.0     11.0   94.0    62.0      32.0  \n",
       "441       192.0      0.0      0.0     1115.0     11.0   72.0   315.0      18.0  \n",
       "442       195.0      0.0      0.0     1184.0      9.0   86.0   206.0      68.0  \n",
       "\n",
       "[443 rows x 200 columns]"
      ],
      "text/html": "<div>\n<style scoped>\n    .dataframe tbody tr th:only-of-type {\n        vertical-align: middle;\n    }\n\n    .dataframe tbody tr th {\n        vertical-align: top;\n    }\n\n    .dataframe thead th {\n        text-align: right;\n    }\n</style>\n<table border=\"1\" class=\"dataframe\">\n  <thead>\n    <tr style=\"text-align: right;\">\n      <th></th>\n      <th>date</th>\n      <th>World</th>\n      <th>Afghanistan</th>\n      <th>Africa</th>\n      <th>Albania</th>\n      <th>Algeria</th>\n      <th>Andorra</th>\n      <th>Angola</th>\n      <th>Antigua and Barbuda</th>\n      <th>Argentina</th>\n      <th>...</th>\n      <th>United States</th>\n      <th>Uruguay</th>\n      <th>Uzbekistan</th>\n      <th>Vanuatu</th>\n      <th>Vatican</th>\n      <th>Venezuela</th>\n      <th>Vietnam</th>\n      <th>Yemen</th>\n      <th>Zambia</th>\n      <th>Zimbabwe</th>\n    </tr>\n  </thead>\n  <tbody>\n    <tr>\n      <th>0</th>\n      <td>2020-01-22</td>\n      <td>0.0</td>\n      <td>NaN</td>\n      <td>NaN</td>\n      <td>NaN</td>\n      <td>NaN</td>\n      <td>NaN</td>\n      <td>NaN</td>\n      <td>NaN</td>\n      <td>NaN</td>\n      <td>...</td>\n      <td>NaN</td>\n      <td>NaN</td>\n      <td>NaN</td>\n      <td>NaN</td>\n      <td>NaN</td>\n      <td>NaN</td>\n      <td>NaN</td>\n      <td>NaN</td>\n      <td>NaN</td>\n      <td>NaN</td>\n    </tr>\n    <tr>\n      <th>1</th>\n      <td>2020-01-23</td>\n      <td>98.0</td>\n      <td>NaN</td>\n      <td>NaN</td>\n      <td>NaN</td>\n      <td>NaN</td>\n      <td>NaN</td>\n      <td>NaN</td>\n      <td>NaN</td>\n      <td>NaN</td>\n      <td>...</td>\n      <td>0.0</td>\n      <td>NaN</td>\n      <td>NaN</td>\n      <td>NaN</td>\n      <td>NaN</td>\n      <td>NaN</td>\n      <td>2.0</td>\n      <td>NaN</td>\n      <td>NaN</td>\n      <td>NaN</td>\n    </tr>\n    <tr>\n      <th>2</th>\n      <td>2020-01-24</td>\n      <td>286.0</td>\n      <td>NaN</td>\n      <td>NaN</td>\n      <td>NaN</td>\n      <td>NaN</td>\n      <td>NaN</td>\n      <td>NaN</td>\n      <td>NaN</td>\n      <td>NaN</td>\n      <td>...</td>\n      <td>1.0</td>\n      <td>NaN</td>\n      <td>NaN</td>\n      <td>NaN</td>\n      <td>NaN</td>\n      <td>NaN</td>\n      <td>0.0</td>\n      <td>NaN</td>\n      <td>NaN</td>\n      <td>NaN</td>\n    </tr>\n    <tr>\n      <th>3</th>\n      <td>2020-01-25</td>\n      <td>492.0</td>\n      <td>NaN</td>\n      <td>NaN</td>\n      <td>NaN</td>\n      <td>NaN</td>\n      <td>NaN</td>\n      <td>NaN</td>\n      <td>NaN</td>\n      <td>NaN</td>\n      <td>...</td>\n      <td>0.0</td>\n      <td>NaN</td>\n      <td>NaN</td>\n      <td>NaN</td>\n      <td>NaN</td>\n      <td>NaN</td>\n      <td>0.0</td>\n      <td>NaN</td>\n      <td>NaN</td>\n      <td>NaN</td>\n    </tr>\n    <tr>\n      <th>4</th>\n      <td>2020-01-26</td>\n      <td>685.0</td>\n      <td>NaN</td>\n      <td>NaN</td>\n      <td>NaN</td>\n      <td>NaN</td>\n      <td>NaN</td>\n      <td>NaN</td>\n      <td>NaN</td>\n      <td>NaN</td>\n      <td>...</td>\n      <td>3.0</td>\n      <td>NaN</td>\n      <td>NaN</td>\n      <td>NaN</td>\n      <td>NaN</td>\n      <td>NaN</td>\n      <td>0.0</td>\n      <td>NaN</td>\n      <td>NaN</td>\n      <td>NaN</td>\n    </tr>\n    <tr>\n      <th>...</th>\n      <td>...</td>\n      <td>...</td>\n      <td>...</td>\n      <td>...</td>\n      <td>...</td>\n      <td>...</td>\n      <td>...</td>\n      <td>...</td>\n      <td>...</td>\n      <td>...</td>\n      <td>...</td>\n      <td>...</td>\n      <td>...</td>\n      <td>...</td>\n      <td>...</td>\n      <td>...</td>\n      <td>...</td>\n      <td>...</td>\n      <td>...</td>\n      <td>...</td>\n      <td>...</td>\n    </tr>\n    <tr>\n      <th>438</th>\n      <td>2021-04-04</td>\n      <td>552763.0</td>\n      <td>81.0</td>\n      <td>9503.0</td>\n      <td>348.0</td>\n      <td>98.0</td>\n      <td>57.0</td>\n      <td>52.0</td>\n      <td>0.0</td>\n      <td>9955.0</td>\n      <td>...</td>\n      <td>34932.0</td>\n      <td>3853.0</td>\n      <td>188.0</td>\n      <td>0.0</td>\n      <td>0.0</td>\n      <td>1786.0</td>\n      <td>5.0</td>\n      <td>101.0</td>\n      <td>130.0</td>\n      <td>12.0</td>\n    </tr>\n    <tr>\n      <th>439</th>\n      <td>2021-04-05</td>\n      <td>489699.0</td>\n      <td>41.0</td>\n      <td>9254.0</td>\n      <td>264.0</td>\n      <td>117.0</td>\n      <td>55.0</td>\n      <td>86.0</td>\n      <td>3.0</td>\n      <td>13667.0</td>\n      <td>...</td>\n      <td>77794.0</td>\n      <td>2201.0</td>\n      <td>179.0</td>\n      <td>0.0</td>\n      <td>0.0</td>\n      <td>1425.0</td>\n      <td>6.0</td>\n      <td>83.0</td>\n      <td>79.0</td>\n      <td>11.0</td>\n    </tr>\n    <tr>\n      <th>440</th>\n      <td>2021-04-06</td>\n      <td>605501.0</td>\n      <td>62.0</td>\n      <td>9576.0</td>\n      <td>141.0</td>\n      <td>140.0</td>\n      <td>42.0</td>\n      <td>168.0</td>\n      <td>0.0</td>\n      <td>20870.0</td>\n      <td>...</td>\n      <td>61958.0</td>\n      <td>3105.0</td>\n      <td>133.0</td>\n      <td>0.0</td>\n      <td>0.0</td>\n      <td>1526.0</td>\n      <td>11.0</td>\n      <td>94.0</td>\n      <td>62.0</td>\n      <td>32.0</td>\n    </tr>\n    <tr>\n      <th>441</th>\n      <td>2021-04-07</td>\n      <td>684346.0</td>\n      <td>94.0</td>\n      <td>11674.0</td>\n      <td>256.0</td>\n      <td>125.0</td>\n      <td>35.0</td>\n      <td>125.0</td>\n      <td>4.0</td>\n      <td>22039.0</td>\n      <td>...</td>\n      <td>75038.0</td>\n      <td>3924.0</td>\n      <td>192.0</td>\n      <td>0.0</td>\n      <td>0.0</td>\n      <td>1115.0</td>\n      <td>11.0</td>\n      <td>72.0</td>\n      <td>315.0</td>\n      <td>18.0</td>\n    </tr>\n    <tr>\n      <th>442</th>\n      <td>2021-04-08</td>\n      <td>839850.0</td>\n      <td>70.0</td>\n      <td>16829.0</td>\n      <td>317.0</td>\n      <td>112.0</td>\n      <td>46.0</td>\n      <td>98.0</td>\n      <td>3.0</td>\n      <td>23683.0</td>\n      <td>...</td>\n      <td>79878.0</td>\n      <td>3670.0</td>\n      <td>195.0</td>\n      <td>0.0</td>\n      <td>0.0</td>\n      <td>1184.0</td>\n      <td>9.0</td>\n      <td>86.0</td>\n      <td>206.0</td>\n      <td>68.0</td>\n    </tr>\n  </tbody>\n</table>\n<p>443 rows × 200 columns</p>\n</div>"
     },
     "metadata": {},
     "execution_count": 17
    }
   ],
   "source": [
    "new_cases"
   ]
  }
 ]
}