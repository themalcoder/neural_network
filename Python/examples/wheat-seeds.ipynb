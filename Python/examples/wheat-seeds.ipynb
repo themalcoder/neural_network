{
 "metadata": {
  "language_info": {
   "codemirror_mode": {
    "name": "ipython",
    "version": 3
   },
   "file_extension": ".py",
   "mimetype": "text/x-python",
   "name": "python",
   "nbconvert_exporter": "python",
   "pygments_lexer": "ipython3",
   "version": "3.8.3"
  },
  "orig_nbformat": 2,
  "kernelspec": {
   "name": "python383jvsc74a57bd0b3ba2566441a7c06988d0923437866b63cedc61552a5af99d1f4fb67d367b25f",
   "display_name": "Python 3.8.3 64-bit ('base': conda)"
  }
 },
 "nbformat": 4,
 "nbformat_minor": 2,
 "cells": [
  {
   "cell_type": "code",
   "execution_count": 1,
   "metadata": {},
   "outputs": [],
   "source": [
    "import random\n",
    "import sys\n",
    "import numpy as np\n",
    "import pandas as pd\n",
    "sys.path.append(\"../src\")  # Adds source directory to python modules path.\n",
    "from nn import neural_network"
   ]
  },
  {
   "cell_type": "code",
   "execution_count": 2,
   "metadata": {},
   "outputs": [],
   "source": [
    "df = pd.read_csv('../datasets/wheat-seeds.csv', header=None) # importing without header as csv doesn't have one"
   ]
  },
  {
   "cell_type": "code",
   "execution_count": 5,
   "metadata": {},
   "outputs": [],
   "source": [
    "# Preparing the data to pass into the Neural Network\n",
    "\n",
    "training_data = df[[i for i in range(len(df.columns) - 1)]]\n",
    "training_data_label = df[len(df.columns) - 1]\n",
    "\n",
    "data_rows = [rows for _, rows in training_data.iterrows()]\n",
    "\n",
    "labels = []\n",
    "for i in training_data_label:\n",
    "    if(i == 1):\n",
    "        labels.append([1, 0, 0])\n",
    "    elif(i == 2):\n",
    "        labels.append([0, 1, 0])\n",
    "    elif(i == 3):\n",
    "        labels.append([0, 0, 1])\n",
    "\n",
    "training = [{'inputs': data_rows[i], 'output': labels[i]} for i in range(len(training_data_label))]\n",
    "\n",
    "# training[0]['outputs']\n",
    "# data = random.choice(training)\n",
    "# data['output']\n"
   ]
  },
  {
   "source": [
    "## CAUTION!!! \n",
    "#### If you already have a saved model for this data, then don't waste you time training it, just load it... \n",
    "\n",
    "#### Otherwise, just uncomment this cell"
   ],
   "cell_type": "markdown",
   "metadata": {}
  },
  {
   "cell_type": "code",
   "execution_count": 6,
   "metadata": {},
   "outputs": [],
   "source": [
    "# neural network\n",
    "# nn = neural_network(len(rows[0]), 10, 3)\n",
    "# iterations = len(rows) * 1000\n",
    "# print(f'Training NN with {iterations} iterations')\n",
    "# for x in range(iterations):\n",
    "#     # Use random data from the training set in every iteration\n",
    "#     data = random.choice(training)\n",
    "#     # Training with that data\n",
    "#     nn.train(data['inputs'], data['output'])\n",
    "#     # To print the progress every 10%\n",
    "#     if x % (iterations / 10) == 0:\n",
    "#         print((x / (iterations / 10) * 10), '%')\n",
    "\n",
    "#print()\n",
    "# model = nn.save_model('seeds-data') "
   ]
  },
  {
   "cell_type": "code",
   "execution_count": 10,
   "metadata": {},
   "outputs": [],
   "source": [
    "# if alread have a saved model, load it here\n",
    "nn = neural_network(len(data_rows[0]), 10, 3)\n",
    "nn = nn.load_model('seeds-data') # Testing loading of the pre-trained model"
   ]
  },
  {
   "cell_type": "code",
   "execution_count": 11,
   "metadata": {},
   "outputs": [
    {
     "output_type": "stream",
     "name": "stdout",
     "text": [
      "\n\nRunning tests for the test data\n\nSeeds: [12.3, 13.34, 0.8684, 5.243, 2.974, 5.637, 5.063]\nPREDICTION: 3, Actual: 3\n\nSeeds: [18.72, 16.19, 0.8977, 6.006, 3.857, 5.324, 5.879]\nPREDICTION: 2, Actual: 2\n\nSeeds: [16.23, 15.18, 0.885, 5.872, 3.472, 3.769, 5.922]\nPREDICTION: 2, Actual: 2\n\nSeeds: [16.2, 15.27, 0.8734, 5.826, 3.464, 2.823, 5.527]\nPREDICTION: 2, Actual: 1\n\nSeeds: [19.06, 16.45, 0.8854, 6.416, 3.719, 2.248, 6.163]\nPREDICTION: 2, Actual: 2\n\nSeeds: [14.16, 14.4, 0.8584, 5.658, 3.129, 3.072, 5.176]\nPREDICTION: 2, Actual: 1\n\nSeeds: [11.56, 13.31, 0.8198, 5.363, 2.683, 4.062, 5.182]\nPREDICTION: 3, Actual: 3\n\n"
     ]
    }
   ],
   "source": [
    "tests_data = [\n",
    "        [12.3, 13.34, 0.8684, 5.243, 2.974, 5.637, 5.063],\n",
    "        [18.72, 16.19, 0.8977, 6.006, 3.857, 5.324, 5.879], \n",
    "        [16.23, 15.18, 0.885, 5.872, 3.472, 3.769, 5.922], \n",
    "        [16.2, 15.27, 0.8734, 5.826, 3.464, 2.823, 5.527], \n",
    "        [19.06, 16.45, 0.8854, 6.416, 3.719, 2.248, 6.163], \n",
    "        [14.16, 14.4, 0.8584, 5.658, 3.129, 3.072, 5.176], \n",
    "        [11.56, 13.31, 0.8198, 5.363, 2.683, 4.062, 5.182]\n",
    "    ]\n",
    "test_labels = [3, 2, 2, 1, 2, 1, 3]\n",
    "print()\n",
    "print()\n",
    "\n",
    "# nn = nn.load_model('xor-data') # Testing loading of the pre-trained model\n",
    "print(\"Running tests for the test data\")\n",
    "print('')\n",
    "i = 0\n",
    "for test in tests_data:\n",
    "    # Get the NN prediction of each input\n",
    "    prediction = nn.predict(test)\n",
    "    max_pred_value = np.max(prediction)\n",
    "    max_pred_index = np.where(prediction == max_pred_value)[0][0] + 1\n",
    "    # Print the results\n",
    "    print(f'Seeds: {test}')\n",
    "    print(f'PREDICTION: {max_pred_index}, Actual: {test_labels[i]}')\n",
    "    # print(f'MAX PREDICTION: {max_pred_index}')\n",
    "    # print(f'PRECISION: {prediction}')\n",
    "    i += 1\n",
    "    print('')"
   ]
  },
  {
   "cell_type": "code",
   "execution_count": 42,
   "metadata": {},
   "outputs": [],
   "source": [
    "df = [{\n",
    "    'inputs': [3, 5],\n",
    "    'output': [75]\n",
    "},\n",
    "{\n",
    "    'inputs':[5, 1],\n",
    "    'output': [82],\n",
    "},\n",
    "{\n",
    "    'inputs':[10, 2],\n",
    "    'output': [93],\n",
    "},\n",
    "# {\n",
    "#     'inputs':[5, 8],\n",
    "#     'output': [5/5],\n",
    "# },\n",
    "# {\n",
    "#     'inputs':[8, 6],\n",
    "#     'output': [3/5],\n",
    "# },\n",
    "]\n",
    "\n",
    "# print(df)\n",
    "\n",
    "out_list = []\n",
    "for d in df:\n",
    "    out_list.append(d['output'][0])\n",
    "\n",
    "max_item = np.max(out_list)\n",
    "\n",
    "for d in df:\n",
    "    d['output'] = [d['output'][0] / max_item]"
   ]
  },
  {
   "cell_type": "code",
   "execution_count": 43,
   "metadata": {},
   "outputs": [
    {
     "output_type": "execute_result",
     "data": {
      "text/plain": [
       "3"
      ]
     },
     "metadata": {},
     "execution_count": 43
    }
   ],
   "source": [
    "len(df)"
   ]
  },
  {
   "cell_type": "code",
   "execution_count": 44,
   "metadata": {},
   "outputs": [
    {
     "output_type": "stream",
     "name": "stdout",
     "text": [
      "Training NN with 3000 iterations\n",
      "0.0 %\n",
      "10.0 %\n",
      "20.0 %\n",
      "30.0 %\n",
      "40.0 %\n",
      "50.0 %\n",
      "60.0 %\n",
      "70.0 %\n",
      "80.0 %\n",
      "90.0 %\n"
     ]
    }
   ],
   "source": [
    "nn = neural_network(2, 10, 1)\n",
    "iterations = len(df) * 1000\n",
    "print(f'Training NN with {iterations} iterations')\n",
    "for x in range(iterations):\n",
    "    # Use random data from the training set in every iteration\n",
    "    data = random.choice(df)\n",
    "    # Training with that data\n",
    "    nn.train(data['inputs'], data['output'])\n",
    "    # To print the progress every 10%\n",
    "    if x % (iterations / 10) == 0:\n",
    "        print((x / (iterations / 10) * 10), '%')"
   ]
  },
  {
   "cell_type": "code",
   "execution_count": 186,
   "metadata": {},
   "outputs": [
    {
     "output_type": "stream",
     "name": "stdout",
     "text": [
      "74.92294934973913\n"
     ]
    }
   ],
   "source": [
    "print(nn.predict([3, 5])[0] * (max_item))\n"
   ]
  },
  {
   "cell_type": "code",
   "execution_count": 187,
   "metadata": {},
   "outputs": [
    {
     "output_type": "execute_result",
     "data": {
      "text/plain": [
       "           date     World  Afghanistan   Africa  Albania  Algeria  Andorra  \\\n",
       "8    2020-01-30    2068.0          NaN      NaN      NaN      NaN      NaN   \n",
       "9    2020-01-31    1692.0          NaN      NaN      NaN      NaN      NaN   \n",
       "10   2020-02-01    2111.0          NaN      NaN      NaN      NaN      NaN   \n",
       "11   2020-02-02    4749.0          NaN      NaN      NaN      NaN      NaN   \n",
       "12   2020-02-03    3100.0          NaN      NaN      NaN      NaN      NaN   \n",
       "..          ...       ...          ...      ...      ...      ...      ...   \n",
       "438  2021-04-04  552763.0         81.0   9503.0    348.0     98.0     57.0   \n",
       "439  2021-04-05  489699.0         41.0   9254.0    264.0    117.0     55.0   \n",
       "440  2021-04-06  605501.0         62.0   9576.0    141.0    140.0     42.0   \n",
       "441  2021-04-07  684346.0         94.0  11674.0    256.0    125.0     35.0   \n",
       "442  2021-04-08  839850.0         70.0  16829.0    317.0    112.0     46.0   \n",
       "\n",
       "     Angola  Antigua and Barbuda  Argentina  ...  United States  Uruguay  \\\n",
       "8       NaN                  NaN        NaN  ...            0.0      NaN   \n",
       "9       NaN                  NaN        NaN  ...            2.0      NaN   \n",
       "10      NaN                  NaN        NaN  ...            0.0      NaN   \n",
       "11      NaN                  NaN        NaN  ...            0.0      NaN   \n",
       "12      NaN                  NaN        NaN  ...            3.0      NaN   \n",
       "..      ...                  ...        ...  ...            ...      ...   \n",
       "438    52.0                  0.0     9955.0  ...        34932.0   3853.0   \n",
       "439    86.0                  3.0    13667.0  ...        77794.0   2201.0   \n",
       "440   168.0                  0.0    20870.0  ...        61958.0   3105.0   \n",
       "441   125.0                  4.0    22039.0  ...        75038.0   3924.0   \n",
       "442    98.0                  3.0    23683.0  ...        79878.0   3670.0   \n",
       "\n",
       "     Uzbekistan  Vanuatu  Vatican  Venezuela  Vietnam  Yemen  Zambia  Zimbabwe  \n",
       "8           NaN      NaN      NaN        NaN      0.0    NaN     NaN       NaN  \n",
       "9           NaN      NaN      NaN        NaN      0.0    NaN     NaN       NaN  \n",
       "10          NaN      NaN      NaN        NaN      4.0    NaN     NaN       NaN  \n",
       "11          NaN      NaN      NaN        NaN      0.0    NaN     NaN       NaN  \n",
       "12          NaN      NaN      NaN        NaN      2.0    NaN     NaN       NaN  \n",
       "..          ...      ...      ...        ...      ...    ...     ...       ...  \n",
       "438       188.0      0.0      0.0     1786.0      5.0  101.0   130.0      12.0  \n",
       "439       179.0      0.0      0.0     1425.0      6.0   83.0    79.0      11.0  \n",
       "440       133.0      0.0      0.0     1526.0     11.0   94.0    62.0      32.0  \n",
       "441       192.0      0.0      0.0     1115.0     11.0   72.0   315.0      18.0  \n",
       "442       195.0      0.0      0.0     1184.0      9.0   86.0   206.0      68.0  \n",
       "\n",
       "[435 rows x 200 columns]"
      ],
      "text/html": "<div>\n<style scoped>\n    .dataframe tbody tr th:only-of-type {\n        vertical-align: middle;\n    }\n\n    .dataframe tbody tr th {\n        vertical-align: top;\n    }\n\n    .dataframe thead th {\n        text-align: right;\n    }\n</style>\n<table border=\"1\" class=\"dataframe\">\n  <thead>\n    <tr style=\"text-align: right;\">\n      <th></th>\n      <th>date</th>\n      <th>World</th>\n      <th>Afghanistan</th>\n      <th>Africa</th>\n      <th>Albania</th>\n      <th>Algeria</th>\n      <th>Andorra</th>\n      <th>Angola</th>\n      <th>Antigua and Barbuda</th>\n      <th>Argentina</th>\n      <th>...</th>\n      <th>United States</th>\n      <th>Uruguay</th>\n      <th>Uzbekistan</th>\n      <th>Vanuatu</th>\n      <th>Vatican</th>\n      <th>Venezuela</th>\n      <th>Vietnam</th>\n      <th>Yemen</th>\n      <th>Zambia</th>\n      <th>Zimbabwe</th>\n    </tr>\n  </thead>\n  <tbody>\n    <tr>\n      <th>8</th>\n      <td>2020-01-30</td>\n      <td>2068.0</td>\n      <td>NaN</td>\n      <td>NaN</td>\n      <td>NaN</td>\n      <td>NaN</td>\n      <td>NaN</td>\n      <td>NaN</td>\n      <td>NaN</td>\n      <td>NaN</td>\n      <td>...</td>\n      <td>0.0</td>\n      <td>NaN</td>\n      <td>NaN</td>\n      <td>NaN</td>\n      <td>NaN</td>\n      <td>NaN</td>\n      <td>0.0</td>\n      <td>NaN</td>\n      <td>NaN</td>\n      <td>NaN</td>\n    </tr>\n    <tr>\n      <th>9</th>\n      <td>2020-01-31</td>\n      <td>1692.0</td>\n      <td>NaN</td>\n      <td>NaN</td>\n      <td>NaN</td>\n      <td>NaN</td>\n      <td>NaN</td>\n      <td>NaN</td>\n      <td>NaN</td>\n      <td>NaN</td>\n      <td>...</td>\n      <td>2.0</td>\n      <td>NaN</td>\n      <td>NaN</td>\n      <td>NaN</td>\n      <td>NaN</td>\n      <td>NaN</td>\n      <td>0.0</td>\n      <td>NaN</td>\n      <td>NaN</td>\n      <td>NaN</td>\n    </tr>\n    <tr>\n      <th>10</th>\n      <td>2020-02-01</td>\n      <td>2111.0</td>\n      <td>NaN</td>\n      <td>NaN</td>\n      <td>NaN</td>\n      <td>NaN</td>\n      <td>NaN</td>\n      <td>NaN</td>\n      <td>NaN</td>\n      <td>NaN</td>\n      <td>...</td>\n      <td>0.0</td>\n      <td>NaN</td>\n      <td>NaN</td>\n      <td>NaN</td>\n      <td>NaN</td>\n      <td>NaN</td>\n      <td>4.0</td>\n      <td>NaN</td>\n      <td>NaN</td>\n      <td>NaN</td>\n    </tr>\n    <tr>\n      <th>11</th>\n      <td>2020-02-02</td>\n      <td>4749.0</td>\n      <td>NaN</td>\n      <td>NaN</td>\n      <td>NaN</td>\n      <td>NaN</td>\n      <td>NaN</td>\n      <td>NaN</td>\n      <td>NaN</td>\n      <td>NaN</td>\n      <td>...</td>\n      <td>0.0</td>\n      <td>NaN</td>\n      <td>NaN</td>\n      <td>NaN</td>\n      <td>NaN</td>\n      <td>NaN</td>\n      <td>0.0</td>\n      <td>NaN</td>\n      <td>NaN</td>\n      <td>NaN</td>\n    </tr>\n    <tr>\n      <th>12</th>\n      <td>2020-02-03</td>\n      <td>3100.0</td>\n      <td>NaN</td>\n      <td>NaN</td>\n      <td>NaN</td>\n      <td>NaN</td>\n      <td>NaN</td>\n      <td>NaN</td>\n      <td>NaN</td>\n      <td>NaN</td>\n      <td>...</td>\n      <td>3.0</td>\n      <td>NaN</td>\n      <td>NaN</td>\n      <td>NaN</td>\n      <td>NaN</td>\n      <td>NaN</td>\n      <td>2.0</td>\n      <td>NaN</td>\n      <td>NaN</td>\n      <td>NaN</td>\n    </tr>\n    <tr>\n      <th>...</th>\n      <td>...</td>\n      <td>...</td>\n      <td>...</td>\n      <td>...</td>\n      <td>...</td>\n      <td>...</td>\n      <td>...</td>\n      <td>...</td>\n      <td>...</td>\n      <td>...</td>\n      <td>...</td>\n      <td>...</td>\n      <td>...</td>\n      <td>...</td>\n      <td>...</td>\n      <td>...</td>\n      <td>...</td>\n      <td>...</td>\n      <td>...</td>\n      <td>...</td>\n      <td>...</td>\n    </tr>\n    <tr>\n      <th>438</th>\n      <td>2021-04-04</td>\n      <td>552763.0</td>\n      <td>81.0</td>\n      <td>9503.0</td>\n      <td>348.0</td>\n      <td>98.0</td>\n      <td>57.0</td>\n      <td>52.0</td>\n      <td>0.0</td>\n      <td>9955.0</td>\n      <td>...</td>\n      <td>34932.0</td>\n      <td>3853.0</td>\n      <td>188.0</td>\n      <td>0.0</td>\n      <td>0.0</td>\n      <td>1786.0</td>\n      <td>5.0</td>\n      <td>101.0</td>\n      <td>130.0</td>\n      <td>12.0</td>\n    </tr>\n    <tr>\n      <th>439</th>\n      <td>2021-04-05</td>\n      <td>489699.0</td>\n      <td>41.0</td>\n      <td>9254.0</td>\n      <td>264.0</td>\n      <td>117.0</td>\n      <td>55.0</td>\n      <td>86.0</td>\n      <td>3.0</td>\n      <td>13667.0</td>\n      <td>...</td>\n      <td>77794.0</td>\n      <td>2201.0</td>\n      <td>179.0</td>\n      <td>0.0</td>\n      <td>0.0</td>\n      <td>1425.0</td>\n      <td>6.0</td>\n      <td>83.0</td>\n      <td>79.0</td>\n      <td>11.0</td>\n    </tr>\n    <tr>\n      <th>440</th>\n      <td>2021-04-06</td>\n      <td>605501.0</td>\n      <td>62.0</td>\n      <td>9576.0</td>\n      <td>141.0</td>\n      <td>140.0</td>\n      <td>42.0</td>\n      <td>168.0</td>\n      <td>0.0</td>\n      <td>20870.0</td>\n      <td>...</td>\n      <td>61958.0</td>\n      <td>3105.0</td>\n      <td>133.0</td>\n      <td>0.0</td>\n      <td>0.0</td>\n      <td>1526.0</td>\n      <td>11.0</td>\n      <td>94.0</td>\n      <td>62.0</td>\n      <td>32.0</td>\n    </tr>\n    <tr>\n      <th>441</th>\n      <td>2021-04-07</td>\n      <td>684346.0</td>\n      <td>94.0</td>\n      <td>11674.0</td>\n      <td>256.0</td>\n      <td>125.0</td>\n      <td>35.0</td>\n      <td>125.0</td>\n      <td>4.0</td>\n      <td>22039.0</td>\n      <td>...</td>\n      <td>75038.0</td>\n      <td>3924.0</td>\n      <td>192.0</td>\n      <td>0.0</td>\n      <td>0.0</td>\n      <td>1115.0</td>\n      <td>11.0</td>\n      <td>72.0</td>\n      <td>315.0</td>\n      <td>18.0</td>\n    </tr>\n    <tr>\n      <th>442</th>\n      <td>2021-04-08</td>\n      <td>839850.0</td>\n      <td>70.0</td>\n      <td>16829.0</td>\n      <td>317.0</td>\n      <td>112.0</td>\n      <td>46.0</td>\n      <td>98.0</td>\n      <td>3.0</td>\n      <td>23683.0</td>\n      <td>...</td>\n      <td>79878.0</td>\n      <td>3670.0</td>\n      <td>195.0</td>\n      <td>0.0</td>\n      <td>0.0</td>\n      <td>1184.0</td>\n      <td>9.0</td>\n      <td>86.0</td>\n      <td>206.0</td>\n      <td>68.0</td>\n    </tr>\n  </tbody>\n</table>\n<p>435 rows × 200 columns</p>\n</div>"
     },
     "metadata": {},
     "execution_count": 187
    }
   ],
   "source": [
    "cases_df"
   ]
  },
  {
   "cell_type": "code",
   "execution_count": 174,
   "metadata": {},
   "outputs": [],
   "source": [
    "\n",
    "cases_df = pd.read_csv('../datasets/new_cases.csv')\n",
    "cases_df = cases_df[8:]\n",
    "df_india_list = []\n",
    "# print(cases_df['India'])\n",
    "counter = 0\n",
    "for i in cases_df['India']:\n",
    "    if np.isnan(i):\n",
    "        df_india_list.append([0])\n",
    "    else:\n",
    "        df_india_list.append([i])"
   ]
  },
  {
   "cell_type": "code",
   "execution_count": 175,
   "metadata": {},
   "outputs": [
    {
     "output_type": "stream",
     "name": "stdout",
     "text": [
      "{'input': [0], 'output': [0.13854873908826382]}\n"
     ]
    }
   ],
   "source": [
    "max_cases = np.max(df_india_list)\n",
    "df_india = []\n",
    "counter = 0\n",
    "for i in df_india_list:\n",
    "    # print(i[0])\n",
    "    df_india.append({\n",
    "        'input': [counter],\n",
    "        'output': [i[0] / max_cases]\n",
    "    })\n",
    "\n",
    "print(df_india[400])"
   ]
  },
  {
   "cell_type": "code",
   "execution_count": 200,
   "metadata": {},
   "outputs": [
    {
     "output_type": "stream",
     "name": "stdout",
     "text": [
      "Training NN with 870 iterations\n",
      "0.0 %\n",
      "10.0 %\n",
      "20.0 %\n",
      "30.0 %\n",
      "40.0 %\n",
      "50.0 %\n",
      "60.0 %\n",
      "70.0 %\n",
      "80.0 %\n",
      "90.0 %\n"
     ]
    }
   ],
   "source": [
    "nn_india_cases = neural_network(1, 10, 1)\n",
    "iterations = len(df_india) * 2\n",
    "print(f'Training NN with {iterations} iterations')\n",
    "for x in range(iterations):\n",
    "    # Use random data from the training set in every iteration\n",
    "    data = random.choice(df_india)\n",
    "    # Training with that data\n",
    "    nn_india_cases.train(data['input'], data['output'])\n",
    "    # To print the progress every 10%\n",
    "    if x % (iterations / 10) == 0:\n",
    "        print((x / (iterations / 10) * 10), '%')\n"
   ]
  },
  {
   "cell_type": "code",
   "execution_count": 201,
   "metadata": {},
   "outputs": [
    {
     "output_type": "stream",
     "name": "stdout",
     "text": [
      "Model saved as 'india_cases'\n"
     ]
    }
   ],
   "source": [
    "nn_india_cases.save_model('india_cases')"
   ]
  },
  {
   "cell_type": "code",
   "execution_count": 217,
   "metadata": {},
   "outputs": [
    {
     "output_type": "stream",
     "name": "stdout",
     "text": [
      "28899.0\n"
     ]
    },
    {
     "output_type": "execute_result",
     "data": {
      "text/plain": [
       "131968.0"
      ]
     },
     "metadata": {},
     "execution_count": 217
    }
   ],
   "source": [
    "# print(f'Max cases : {max_cases}')\n",
    "print(np.ceil(nn_india_cases.predict([435])[0] * max_cases))\n",
    "\n",
    "(cases_df['India'][442])\n"
   ]
  },
  {
   "cell_type": "code",
   "execution_count": 142,
   "metadata": {},
   "outputs": [],
   "source": [
    "import matplotlib.pyplot as plt"
   ]
  },
  {
   "cell_type": "code",
   "execution_count": 147,
   "metadata": {},
   "outputs": [
    {
     "output_type": "execute_result",
     "data": {
      "text/plain": [
       "[<matplotlib.lines.Line2D at 0x1ff5744bc40>]"
      ]
     },
     "metadata": {},
     "execution_count": 147
    },
    {
     "output_type": "display_data",
     "data": {
      "text/plain": "<Figure size 432x288 with 1 Axes>",
      "image/svg+xml": "<?xml version=\"1.0\" encoding=\"utf-8\" standalone=\"no\"?>\r\n<!DOCTYPE svg PUBLIC \"-//W3C//DTD SVG 1.1//EN\"\r\n  \"http://www.w3.org/Graphics/SVG/1.1/DTD/svg11.dtd\">\r\n<!-- Created with matplotlib (https://matplotlib.org/) -->\r\n<svg height=\"248.518125pt\" version=\"1.1\" viewBox=\"0 0 394.375 248.518125\" width=\"394.375pt\" xmlns=\"http://www.w3.org/2000/svg\" xmlns:xlink=\"http://www.w3.org/1999/xlink\">\r\n <defs>\r\n  <style type=\"text/css\">\r\n*{stroke-linecap:butt;stroke-linejoin:round;}\r\n  </style>\r\n </defs>\r\n <g id=\"figure_1\">\r\n  <g id=\"patch_1\">\r\n   <path d=\"M 0 248.518125 \r\nL 394.375 248.518125 \r\nL 394.375 0 \r\nL 0 0 \r\nz\r\n\" style=\"fill:none;\"/>\r\n  </g>\r\n  <g id=\"axes_1\">\r\n   <g id=\"patch_2\">\r\n    <path d=\"M 52.375 224.64 \r\nL 387.175 224.64 \r\nL 387.175 7.2 \r\nL 52.375 7.2 \r\nz\r\n\" style=\"fill:#ffffff;\"/>\r\n   </g>\r\n   <g id=\"matplotlib.axis_1\">\r\n    <g id=\"xtick_1\">\r\n     <g id=\"line2d_1\">\r\n      <defs>\r\n       <path d=\"M 0 0 \r\nL 0 3.5 \r\n\" id=\"m6b73134f10\" style=\"stroke:#000000;stroke-width:0.8;\"/>\r\n      </defs>\r\n      <g>\r\n       <use style=\"stroke:#000000;stroke-width:0.8;\" x=\"67.593182\" xlink:href=\"#m6b73134f10\" y=\"224.64\"/>\r\n      </g>\r\n     </g>\r\n     <g id=\"text_1\">\r\n      <!-- 0 -->\r\n      <defs>\r\n       <path d=\"M 31.78125 66.40625 \r\nQ 24.171875 66.40625 20.328125 58.90625 \r\nQ 16.5 51.421875 16.5 36.375 \r\nQ 16.5 21.390625 20.328125 13.890625 \r\nQ 24.171875 6.390625 31.78125 6.390625 \r\nQ 39.453125 6.390625 43.28125 13.890625 \r\nQ 47.125 21.390625 47.125 36.375 \r\nQ 47.125 51.421875 43.28125 58.90625 \r\nQ 39.453125 66.40625 31.78125 66.40625 \r\nz\r\nM 31.78125 74.21875 \r\nQ 44.046875 74.21875 50.515625 64.515625 \r\nQ 56.984375 54.828125 56.984375 36.375 \r\nQ 56.984375 17.96875 50.515625 8.265625 \r\nQ 44.046875 -1.421875 31.78125 -1.421875 \r\nQ 19.53125 -1.421875 13.0625 8.265625 \r\nQ 6.59375 17.96875 6.59375 36.375 \r\nQ 6.59375 54.828125 13.0625 64.515625 \r\nQ 19.53125 74.21875 31.78125 74.21875 \r\nz\r\n\" id=\"DejaVuSans-48\"/>\r\n      </defs>\r\n      <g transform=\"translate(64.411932 239.238437)scale(0.1 -0.1)\">\r\n       <use xlink:href=\"#DejaVuSans-48\"/>\r\n      </g>\r\n     </g>\r\n    </g>\r\n    <g id=\"xtick_2\">\r\n     <g id=\"line2d_2\">\r\n      <g>\r\n       <use style=\"stroke:#000000;stroke-width:0.8;\" x=\"136.453733\" xlink:href=\"#m6b73134f10\" y=\"224.64\"/>\r\n      </g>\r\n     </g>\r\n     <g id=\"text_2\">\r\n      <!-- 100 -->\r\n      <defs>\r\n       <path d=\"M 12.40625 8.296875 \r\nL 28.515625 8.296875 \r\nL 28.515625 63.921875 \r\nL 10.984375 60.40625 \r\nL 10.984375 69.390625 \r\nL 28.421875 72.90625 \r\nL 38.28125 72.90625 \r\nL 38.28125 8.296875 \r\nL 54.390625 8.296875 \r\nL 54.390625 0 \r\nL 12.40625 0 \r\nz\r\n\" id=\"DejaVuSans-49\"/>\r\n      </defs>\r\n      <g transform=\"translate(126.909983 239.238437)scale(0.1 -0.1)\">\r\n       <use xlink:href=\"#DejaVuSans-49\"/>\r\n       <use x=\"63.623047\" xlink:href=\"#DejaVuSans-48\"/>\r\n       <use x=\"127.246094\" xlink:href=\"#DejaVuSans-48\"/>\r\n      </g>\r\n     </g>\r\n    </g>\r\n    <g id=\"xtick_3\">\r\n     <g id=\"line2d_3\">\r\n      <g>\r\n       <use style=\"stroke:#000000;stroke-width:0.8;\" x=\"205.314284\" xlink:href=\"#m6b73134f10\" y=\"224.64\"/>\r\n      </g>\r\n     </g>\r\n     <g id=\"text_3\">\r\n      <!-- 200 -->\r\n      <defs>\r\n       <path d=\"M 19.1875 8.296875 \r\nL 53.609375 8.296875 \r\nL 53.609375 0 \r\nL 7.328125 0 \r\nL 7.328125 8.296875 \r\nQ 12.9375 14.109375 22.625 23.890625 \r\nQ 32.328125 33.6875 34.8125 36.53125 \r\nQ 39.546875 41.84375 41.421875 45.53125 \r\nQ 43.3125 49.21875 43.3125 52.78125 \r\nQ 43.3125 58.59375 39.234375 62.25 \r\nQ 35.15625 65.921875 28.609375 65.921875 \r\nQ 23.96875 65.921875 18.8125 64.3125 \r\nQ 13.671875 62.703125 7.8125 59.421875 \r\nL 7.8125 69.390625 \r\nQ 13.765625 71.78125 18.9375 73 \r\nQ 24.125 74.21875 28.421875 74.21875 \r\nQ 39.75 74.21875 46.484375 68.546875 \r\nQ 53.21875 62.890625 53.21875 53.421875 \r\nQ 53.21875 48.921875 51.53125 44.890625 \r\nQ 49.859375 40.875 45.40625 35.40625 \r\nQ 44.1875 33.984375 37.640625 27.21875 \r\nQ 31.109375 20.453125 19.1875 8.296875 \r\nz\r\n\" id=\"DejaVuSans-50\"/>\r\n      </defs>\r\n      <g transform=\"translate(195.770534 239.238437)scale(0.1 -0.1)\">\r\n       <use xlink:href=\"#DejaVuSans-50\"/>\r\n       <use x=\"63.623047\" xlink:href=\"#DejaVuSans-48\"/>\r\n       <use x=\"127.246094\" xlink:href=\"#DejaVuSans-48\"/>\r\n      </g>\r\n     </g>\r\n    </g>\r\n    <g id=\"xtick_4\">\r\n     <g id=\"line2d_4\">\r\n      <g>\r\n       <use style=\"stroke:#000000;stroke-width:0.8;\" x=\"274.174835\" xlink:href=\"#m6b73134f10\" y=\"224.64\"/>\r\n      </g>\r\n     </g>\r\n     <g id=\"text_4\">\r\n      <!-- 300 -->\r\n      <defs>\r\n       <path d=\"M 40.578125 39.3125 \r\nQ 47.65625 37.796875 51.625 33 \r\nQ 55.609375 28.21875 55.609375 21.1875 \r\nQ 55.609375 10.40625 48.1875 4.484375 \r\nQ 40.765625 -1.421875 27.09375 -1.421875 \r\nQ 22.515625 -1.421875 17.65625 -0.515625 \r\nQ 12.796875 0.390625 7.625 2.203125 \r\nL 7.625 11.71875 \r\nQ 11.71875 9.328125 16.59375 8.109375 \r\nQ 21.484375 6.890625 26.8125 6.890625 \r\nQ 36.078125 6.890625 40.9375 10.546875 \r\nQ 45.796875 14.203125 45.796875 21.1875 \r\nQ 45.796875 27.640625 41.28125 31.265625 \r\nQ 36.765625 34.90625 28.71875 34.90625 \r\nL 20.21875 34.90625 \r\nL 20.21875 43.015625 \r\nL 29.109375 43.015625 \r\nQ 36.375 43.015625 40.234375 45.921875 \r\nQ 44.09375 48.828125 44.09375 54.296875 \r\nQ 44.09375 59.90625 40.109375 62.90625 \r\nQ 36.140625 65.921875 28.71875 65.921875 \r\nQ 24.65625 65.921875 20.015625 65.03125 \r\nQ 15.375 64.15625 9.8125 62.3125 \r\nL 9.8125 71.09375 \r\nQ 15.4375 72.65625 20.34375 73.4375 \r\nQ 25.25 74.21875 29.59375 74.21875 \r\nQ 40.828125 74.21875 47.359375 69.109375 \r\nQ 53.90625 64.015625 53.90625 55.328125 \r\nQ 53.90625 49.265625 50.4375 45.09375 \r\nQ 46.96875 40.921875 40.578125 39.3125 \r\nz\r\n\" id=\"DejaVuSans-51\"/>\r\n      </defs>\r\n      <g transform=\"translate(264.631085 239.238437)scale(0.1 -0.1)\">\r\n       <use xlink:href=\"#DejaVuSans-51\"/>\r\n       <use x=\"63.623047\" xlink:href=\"#DejaVuSans-48\"/>\r\n       <use x=\"127.246094\" xlink:href=\"#DejaVuSans-48\"/>\r\n      </g>\r\n     </g>\r\n    </g>\r\n    <g id=\"xtick_5\">\r\n     <g id=\"line2d_5\">\r\n      <g>\r\n       <use style=\"stroke:#000000;stroke-width:0.8;\" x=\"343.035387\" xlink:href=\"#m6b73134f10\" y=\"224.64\"/>\r\n      </g>\r\n     </g>\r\n     <g id=\"text_5\">\r\n      <!-- 400 -->\r\n      <defs>\r\n       <path d=\"M 37.796875 64.3125 \r\nL 12.890625 25.390625 \r\nL 37.796875 25.390625 \r\nz\r\nM 35.203125 72.90625 \r\nL 47.609375 72.90625 \r\nL 47.609375 25.390625 \r\nL 58.015625 25.390625 \r\nL 58.015625 17.1875 \r\nL 47.609375 17.1875 \r\nL 47.609375 0 \r\nL 37.796875 0 \r\nL 37.796875 17.1875 \r\nL 4.890625 17.1875 \r\nL 4.890625 26.703125 \r\nz\r\n\" id=\"DejaVuSans-52\"/>\r\n      </defs>\r\n      <g transform=\"translate(333.491637 239.238437)scale(0.1 -0.1)\">\r\n       <use xlink:href=\"#DejaVuSans-52\"/>\r\n       <use x=\"63.623047\" xlink:href=\"#DejaVuSans-48\"/>\r\n       <use x=\"127.246094\" xlink:href=\"#DejaVuSans-48\"/>\r\n      </g>\r\n     </g>\r\n    </g>\r\n   </g>\r\n   <g id=\"matplotlib.axis_2\">\r\n    <g id=\"ytick_1\">\r\n     <g id=\"line2d_6\">\r\n      <defs>\r\n       <path d=\"M 0 0 \r\nL -3.5 0 \r\n\" id=\"m342b2a0fe9\" style=\"stroke:#000000;stroke-width:0.8;\"/>\r\n      </defs>\r\n      <g>\r\n       <use style=\"stroke:#000000;stroke-width:0.8;\" x=\"52.375\" xlink:href=\"#m342b2a0fe9\" y=\"214.756364\"/>\r\n      </g>\r\n     </g>\r\n     <g id=\"text_6\">\r\n      <!-- 0 -->\r\n      <g transform=\"translate(39.0125 218.555582)scale(0.1 -0.1)\">\r\n       <use xlink:href=\"#DejaVuSans-48\"/>\r\n      </g>\r\n     </g>\r\n    </g>\r\n    <g id=\"ytick_2\">\r\n     <g id=\"line2d_7\">\r\n      <g>\r\n       <use style=\"stroke:#000000;stroke-width:0.8;\" x=\"52.375\" xlink:href=\"#m342b2a0fe9\" y=\"184.798688\"/>\r\n      </g>\r\n     </g>\r\n     <g id=\"text_7\">\r\n      <!-- 20000 -->\r\n      <g transform=\"translate(13.5625 188.597907)scale(0.1 -0.1)\">\r\n       <use xlink:href=\"#DejaVuSans-50\"/>\r\n       <use x=\"63.623047\" xlink:href=\"#DejaVuSans-48\"/>\r\n       <use x=\"127.246094\" xlink:href=\"#DejaVuSans-48\"/>\r\n       <use x=\"190.869141\" xlink:href=\"#DejaVuSans-48\"/>\r\n       <use x=\"254.492188\" xlink:href=\"#DejaVuSans-48\"/>\r\n      </g>\r\n     </g>\r\n    </g>\r\n    <g id=\"ytick_3\">\r\n     <g id=\"line2d_8\">\r\n      <g>\r\n       <use style=\"stroke:#000000;stroke-width:0.8;\" x=\"52.375\" xlink:href=\"#m342b2a0fe9\" y=\"154.841012\"/>\r\n      </g>\r\n     </g>\r\n     <g id=\"text_8\">\r\n      <!-- 40000 -->\r\n      <g transform=\"translate(13.5625 158.640231)scale(0.1 -0.1)\">\r\n       <use xlink:href=\"#DejaVuSans-52\"/>\r\n       <use x=\"63.623047\" xlink:href=\"#DejaVuSans-48\"/>\r\n       <use x=\"127.246094\" xlink:href=\"#DejaVuSans-48\"/>\r\n       <use x=\"190.869141\" xlink:href=\"#DejaVuSans-48\"/>\r\n       <use x=\"254.492188\" xlink:href=\"#DejaVuSans-48\"/>\r\n      </g>\r\n     </g>\r\n    </g>\r\n    <g id=\"ytick_4\">\r\n     <g id=\"line2d_9\">\r\n      <g>\r\n       <use style=\"stroke:#000000;stroke-width:0.8;\" x=\"52.375\" xlink:href=\"#m342b2a0fe9\" y=\"124.883337\"/>\r\n      </g>\r\n     </g>\r\n     <g id=\"text_9\">\r\n      <!-- 60000 -->\r\n      <defs>\r\n       <path d=\"M 33.015625 40.375 \r\nQ 26.375 40.375 22.484375 35.828125 \r\nQ 18.609375 31.296875 18.609375 23.390625 \r\nQ 18.609375 15.53125 22.484375 10.953125 \r\nQ 26.375 6.390625 33.015625 6.390625 \r\nQ 39.65625 6.390625 43.53125 10.953125 \r\nQ 47.40625 15.53125 47.40625 23.390625 \r\nQ 47.40625 31.296875 43.53125 35.828125 \r\nQ 39.65625 40.375 33.015625 40.375 \r\nz\r\nM 52.59375 71.296875 \r\nL 52.59375 62.3125 \r\nQ 48.875 64.0625 45.09375 64.984375 \r\nQ 41.3125 65.921875 37.59375 65.921875 \r\nQ 27.828125 65.921875 22.671875 59.328125 \r\nQ 17.53125 52.734375 16.796875 39.40625 \r\nQ 19.671875 43.65625 24.015625 45.921875 \r\nQ 28.375 48.1875 33.59375 48.1875 \r\nQ 44.578125 48.1875 50.953125 41.515625 \r\nQ 57.328125 34.859375 57.328125 23.390625 \r\nQ 57.328125 12.15625 50.6875 5.359375 \r\nQ 44.046875 -1.421875 33.015625 -1.421875 \r\nQ 20.359375 -1.421875 13.671875 8.265625 \r\nQ 6.984375 17.96875 6.984375 36.375 \r\nQ 6.984375 53.65625 15.1875 63.9375 \r\nQ 23.390625 74.21875 37.203125 74.21875 \r\nQ 40.921875 74.21875 44.703125 73.484375 \r\nQ 48.484375 72.75 52.59375 71.296875 \r\nz\r\n\" id=\"DejaVuSans-54\"/>\r\n      </defs>\r\n      <g transform=\"translate(13.5625 128.682555)scale(0.1 -0.1)\">\r\n       <use xlink:href=\"#DejaVuSans-54\"/>\r\n       <use x=\"63.623047\" xlink:href=\"#DejaVuSans-48\"/>\r\n       <use x=\"127.246094\" xlink:href=\"#DejaVuSans-48\"/>\r\n       <use x=\"190.869141\" xlink:href=\"#DejaVuSans-48\"/>\r\n       <use x=\"254.492188\" xlink:href=\"#DejaVuSans-48\"/>\r\n      </g>\r\n     </g>\r\n    </g>\r\n    <g id=\"ytick_5\">\r\n     <g id=\"line2d_10\">\r\n      <g>\r\n       <use style=\"stroke:#000000;stroke-width:0.8;\" x=\"52.375\" xlink:href=\"#m342b2a0fe9\" y=\"94.925661\"/>\r\n      </g>\r\n     </g>\r\n     <g id=\"text_10\">\r\n      <!-- 80000 -->\r\n      <defs>\r\n       <path d=\"M 31.78125 34.625 \r\nQ 24.75 34.625 20.71875 30.859375 \r\nQ 16.703125 27.09375 16.703125 20.515625 \r\nQ 16.703125 13.921875 20.71875 10.15625 \r\nQ 24.75 6.390625 31.78125 6.390625 \r\nQ 38.8125 6.390625 42.859375 10.171875 \r\nQ 46.921875 13.96875 46.921875 20.515625 \r\nQ 46.921875 27.09375 42.890625 30.859375 \r\nQ 38.875 34.625 31.78125 34.625 \r\nz\r\nM 21.921875 38.8125 \r\nQ 15.578125 40.375 12.03125 44.71875 \r\nQ 8.5 49.078125 8.5 55.328125 \r\nQ 8.5 64.0625 14.71875 69.140625 \r\nQ 20.953125 74.21875 31.78125 74.21875 \r\nQ 42.671875 74.21875 48.875 69.140625 \r\nQ 55.078125 64.0625 55.078125 55.328125 \r\nQ 55.078125 49.078125 51.53125 44.71875 \r\nQ 48 40.375 41.703125 38.8125 \r\nQ 48.828125 37.15625 52.796875 32.3125 \r\nQ 56.78125 27.484375 56.78125 20.515625 \r\nQ 56.78125 9.90625 50.3125 4.234375 \r\nQ 43.84375 -1.421875 31.78125 -1.421875 \r\nQ 19.734375 -1.421875 13.25 4.234375 \r\nQ 6.78125 9.90625 6.78125 20.515625 \r\nQ 6.78125 27.484375 10.78125 32.3125 \r\nQ 14.796875 37.15625 21.921875 38.8125 \r\nz\r\nM 18.3125 54.390625 \r\nQ 18.3125 48.734375 21.84375 45.5625 \r\nQ 25.390625 42.390625 31.78125 42.390625 \r\nQ 38.140625 42.390625 41.71875 45.5625 \r\nQ 45.3125 48.734375 45.3125 54.390625 \r\nQ 45.3125 60.0625 41.71875 63.234375 \r\nQ 38.140625 66.40625 31.78125 66.40625 \r\nQ 25.390625 66.40625 21.84375 63.234375 \r\nQ 18.3125 60.0625 18.3125 54.390625 \r\nz\r\n\" id=\"DejaVuSans-56\"/>\r\n      </defs>\r\n      <g transform=\"translate(13.5625 98.72488)scale(0.1 -0.1)\">\r\n       <use xlink:href=\"#DejaVuSans-56\"/>\r\n       <use x=\"63.623047\" xlink:href=\"#DejaVuSans-48\"/>\r\n       <use x=\"127.246094\" xlink:href=\"#DejaVuSans-48\"/>\r\n       <use x=\"190.869141\" xlink:href=\"#DejaVuSans-48\"/>\r\n       <use x=\"254.492188\" xlink:href=\"#DejaVuSans-48\"/>\r\n      </g>\r\n     </g>\r\n    </g>\r\n    <g id=\"ytick_6\">\r\n     <g id=\"line2d_11\">\r\n      <g>\r\n       <use style=\"stroke:#000000;stroke-width:0.8;\" x=\"52.375\" xlink:href=\"#m342b2a0fe9\" y=\"64.967985\"/>\r\n      </g>\r\n     </g>\r\n     <g id=\"text_11\">\r\n      <!-- 100000 -->\r\n      <g transform=\"translate(7.2 68.767204)scale(0.1 -0.1)\">\r\n       <use xlink:href=\"#DejaVuSans-49\"/>\r\n       <use x=\"63.623047\" xlink:href=\"#DejaVuSans-48\"/>\r\n       <use x=\"127.246094\" xlink:href=\"#DejaVuSans-48\"/>\r\n       <use x=\"190.869141\" xlink:href=\"#DejaVuSans-48\"/>\r\n       <use x=\"254.492188\" xlink:href=\"#DejaVuSans-48\"/>\r\n       <use x=\"318.115234\" xlink:href=\"#DejaVuSans-48\"/>\r\n      </g>\r\n     </g>\r\n    </g>\r\n    <g id=\"ytick_7\">\r\n     <g id=\"line2d_12\">\r\n      <g>\r\n       <use style=\"stroke:#000000;stroke-width:0.8;\" x=\"52.375\" xlink:href=\"#m342b2a0fe9\" y=\"35.010309\"/>\r\n      </g>\r\n     </g>\r\n     <g id=\"text_12\">\r\n      <!-- 120000 -->\r\n      <g transform=\"translate(7.2 38.809528)scale(0.1 -0.1)\">\r\n       <use xlink:href=\"#DejaVuSans-49\"/>\r\n       <use x=\"63.623047\" xlink:href=\"#DejaVuSans-50\"/>\r\n       <use x=\"127.246094\" xlink:href=\"#DejaVuSans-48\"/>\r\n       <use x=\"190.869141\" xlink:href=\"#DejaVuSans-48\"/>\r\n       <use x=\"254.492188\" xlink:href=\"#DejaVuSans-48\"/>\r\n       <use x=\"318.115234\" xlink:href=\"#DejaVuSans-48\"/>\r\n      </g>\r\n     </g>\r\n    </g>\r\n   </g>\r\n   <g id=\"line2d_13\">\r\n    <path clip-path=\"url(#p073aeeca7e)\" d=\"M 67.593182 214.756364 \r\nL 107.532302 214.681469 \r\nL 109.598118 214.602082 \r\nL 110.286724 214.700942 \r\nL 110.975329 214.57512 \r\nL 111.663935 214.651512 \r\nL 112.35254 214.516702 \r\nL 113.729751 214.700942 \r\nL 114.418357 214.416344 \r\nL 115.106962 214.537673 \r\nL 115.795568 213.856135 \r\nL 116.484173 213.940017 \r\nL 117.172779 214.720414 \r\nL 117.861384 213.984953 \r\nL 118.54999 213.998434 \r\nL 119.238595 212.973882 \r\nL 119.927201 213.957992 \r\nL 120.615806 213.850144 \r\nL 121.304412 213.544576 \r\nL 121.993017 213.448711 \r\nL 123.370228 213.61947 \r\nL 124.058834 212.887005 \r\nL 125.436045 213.505631 \r\nL 126.12465 213.096708 \r\nL 126.813256 213.375315 \r\nL 128.190467 211.92087 \r\nL 128.879072 213.372319 \r\nL 129.567678 212.448125 \r\nL 130.256283 212.824094 \r\nL 130.944889 212.199476 \r\nL 131.633494 212.579938 \r\nL 132.3221 212.130573 \r\nL 133.010705 212.349264 \r\nL 133.699311 212.418167 \r\nL 134.387916 211.950827 \r\nL 135.076522 212.153042 \r\nL 135.765128 212.058675 \r\nL 136.453733 211.17043 \r\nL 137.142339 211.098531 \r\nL 137.830944 210.553302 \r\nL 138.51955 208.866685 \r\nL 139.208155 210.318134 \r\nL 139.896761 209.383455 \r\nL 140.585366 209.717483 \r\nL 141.273972 209.74744 \r\nL 141.962577 210.093451 \r\nL 142.651183 208.236076 \r\nL 143.339788 209.353497 \r\nL 144.028394 209.477821 \r\nL 145.405605 208.851706 \r\nL 146.09421 209.083878 \r\nL 146.782816 207.470657 \r\nL 147.471421 207.192051 \r\nL 148.160027 207.821162 \r\nL 148.848632 205.548872 \r\nL 149.537238 206.438615 \r\nL 150.225843 205.47248 \r\nL 150.914449 204.918263 \r\nL 151.603054 204.826892 \r\nL 152.29166 204.101916 \r\nL 153.668871 206.004229 \r\nL 154.357476 203.832297 \r\nL 155.046082 203.821812 \r\nL 155.734687 202.616016 \r\nL 156.423293 202.270004 \r\nL 157.111898 201.601948 \r\nL 157.800504 203.131288 \r\nL 158.489109 201.543531 \r\nL 159.177715 200.327249 \r\nL 159.86632 199.943791 \r\nL 160.554926 200.569906 \r\nL 161.243531 199.121453 \r\nL 161.932137 198.483354 \r\nL 162.620742 202.111229 \r\nL 163.309348 199.450987 \r\nL 163.997954 199.089997 \r\nL 166.06377 196.888108 \r\nL 166.752376 197.527704 \r\nL 167.440981 198.778437 \r\nL 168.129587 198.318587 \r\nL 168.818192 195.462123 \r\nL 169.506798 194.406115 \r\nL 170.884009 191.68446 \r\nL 171.572614 192.541249 \r\nL 172.26122 192.388465 \r\nL 173.638431 189.409174 \r\nL 174.327036 188.848966 \r\nL 175.704247 184.939489 \r\nL 176.392853 185.609043 \r\nL 177.081458 187.01256 \r\nL 177.770064 186.834312 \r\nL 178.458669 186.05691 \r\nL 179.83588 180.648052 \r\nL 180.524486 177.533952 \r\nL 181.213091 178.435678 \r\nL 181.901697 181.426952 \r\nL 182.590302 180.675014 \r\nL 183.278908 177.490513 \r\nL 183.967513 175.053456 \r\nL 184.656119 174.142743 \r\nL 185.344724 171.9079 \r\nL 186.03333 171.719167 \r\nL 186.721935 172.069672 \r\nL 187.410541 170.675142 \r\nL 188.099146 165.811513 \r\nL 188.787752 162.367878 \r\nL 189.476357 161.952964 \r\nL 190.164963 156.792755 \r\nL 190.853568 154.204412 \r\nL 191.542174 159.136943 \r\nL 192.23078 158.22623 \r\nL 192.919385 146.273117 \r\nL 193.607991 140.895714 \r\nL 194.985202 141.942735 \r\nL 195.673807 139.890634 \r\nL 196.362413 148.164944 \r\nL 197.051018 137.471552 \r\nL 197.739624 139.421797 \r\nL 198.428229 135.693564 \r\nL 199.116835 123.022965 \r\nL 199.80544 132.769695 \r\nL 200.494046 135.410464 \r\nL 201.182651 136.791513 \r\nL 201.871257 136.103984 \r\nL 202.559862 130.452468 \r\nL 203.248468 121.081708 \r\nL 203.937073 122.581089 \r\nL 204.625679 118.294146 \r\nL 205.314284 121.791704 \r\nL 206.00289 134.468295 \r\nL 206.691495 123.440874 \r\nL 207.380101 114.399648 \r\nL 208.068706 118.063472 \r\nL 208.757312 117.79535 \r\nL 209.445917 118.846865 \r\nL 210.134523 128.311993 \r\nL 210.823128 132.345794 \r\nL 211.511734 118.035012 \r\nL 212.200339 110.395805 \r\nL 212.888945 111.552171 \r\nL 213.57755 110.090236 \r\nL 214.266156 111.044388 \r\nL 214.954761 122.774316 \r\nL 215.643367 123.4229 \r\nL 216.331972 129.041462 \r\nL 217.020578 86.407196 \r\nL 217.709183 99.020875 \r\nL 218.397789 100.210195 \r\nL 219.086394 96.781539 \r\nL 219.775 97.154512 \r\nL 220.463606 110.022832 \r\nL 221.152211 97.386684 \r\nL 221.840817 89.109378 \r\nL 222.529422 89.921231 \r\nL 223.218028 85.291272 \r\nL 223.906633 79.00016 \r\nL 224.595239 78.74552 \r\nL 225.283844 101.203292 \r\nL 225.97245 80.387201 \r\nL 226.661055 71.35646 \r\nL 227.349661 70.134186 \r\nL 228.038266 68.607843 \r\nL 228.726872 73.398075 \r\nL 229.415477 76.844706 \r\nL 230.104083 89.220222 \r\nL 230.792688 79.762583 \r\nL 231.481294 68.122528 \r\nL 232.169899 70.324418 \r\nL 232.858505 74.948385 \r\nL 233.54711 76.044836 \r\nL 234.235716 84.498892 \r\nL 234.924321 102.290755 \r\nL 235.612927 89.912244 \r\nL 236.301532 85.177433 \r\nL 236.990138 85.860468 \r\nL 237.678743 86.894008 \r\nL 238.367349 82.04386 \r\nL 239.055954 91.675253 \r\nL 239.74456 109.022245 \r\nL 240.433165 94.21866 \r\nL 241.121771 84.708596 \r\nL 241.810376 92.702801 \r\nL 242.498982 95.710552 \r\nL 243.187587 101.173334 \r\nL 243.876193 103.250899 \r\nL 244.564798 122.985518 \r\nL 245.253404 106.835335 \r\nL 245.942009 97.136537 \r\nL 246.630615 109.161548 \r\nL 247.31922 105.003423 \r\nL 248.007826 103.339274 \r\nL 248.696432 114.799583 \r\nL 249.385037 131.860479 \r\nL 250.073643 119.627262 \r\nL 250.762248 113.337648 \r\nL 251.450854 119.83397 \r\nL 252.139459 121.570018 \r\nL 252.828065 122.080796 \r\nL 253.51667 131.291283 \r\nL 254.205276 144.670381 \r\nL 254.893881 133.804732 \r\nL 255.582487 131.116031 \r\nL 256.271092 133.322414 \r\nL 256.959698 134.814306 \r\nL 257.648303 139.668947 \r\nL 258.336909 147.129907 \r\nL 259.025514 160.128542 \r\nL 259.71412 149.009751 \r\nL 260.402725 140.040423 \r\nL 261.091331 141.887313 \r\nL 261.779936 142.456509 \r\nL 262.468542 144.411247 \r\nL 263.157147 147.005582 \r\nL 263.845753 157.372436 \r\nL 264.534358 145.474745 \r\nL 265.222964 139.547619 \r\nL 265.911569 143.400176 \r\nL 266.600175 139.328928 \r\nL 267.28878 146.34202 \r\nL 267.977386 145.999004 \r\nL 268.665991 157.727434 \r\nL 269.354597 148.428572 \r\nL 270.043202 143.000241 \r\nL 270.731808 147.532837 \r\nL 271.420413 147.824925 \r\nL 272.109019 153.19334 \r\nL 272.797624 168.99901 \r\nL 273.48623 171.073579 \r\nL 274.174835 156.912586 \r\nL 274.863441 146.488812 \r\nL 276.240652 145.506201 \r\nL 277.617863 148.761102 \r\nL 278.306469 157.874227 \r\nL 278.995074 148.286273 \r\nL 279.68368 148.117012 \r\nL 280.372285 150.224534 \r\nL 281.060891 152.86081 \r\nL 281.749496 152.129843 \r\nL 282.438102 156.680414 \r\nL 283.126707 168.145216 \r\nL 283.815313 159.927826 \r\nL 284.503918 161.505097 \r\nL 285.192524 159.941307 \r\nL 285.881129 159.855927 \r\nL 286.569735 160.816071 \r\nL 287.25834 165.354659 \r\nL 287.946946 174.962085 \r\nL 288.635551 166.704252 \r\nL 289.324157 167.541569 \r\nL 290.012762 170.759023 \r\nL 290.701368 169.773416 \r\nL 291.389973 169.439388 \r\nL 292.078579 174.207152 \r\nL 292.767184 181.705558 \r\nL 293.45579 175.239194 \r\nL 294.144395 178.792174 \r\nL 294.833001 180.469804 \r\nL 295.521606 177.081591 \r\nL 296.210212 174.876706 \r\nL 296.898817 178.302366 \r\nL 297.587423 185.463748 \r\nL 298.276028 178.882047 \r\nL 298.964634 177.74066 \r\nL 299.653239 180.204678 \r\nL 300.341845 181.393998 \r\nL 301.03045 186.698005 \r\nL 301.719056 184.767232 \r\nL 302.407661 190.143137 \r\nL 303.096267 183.97635 \r\nL 303.784872 182.069544 \r\nL 304.473478 214.756364 \r\nL 305.850689 158.951205 \r\nL 306.539295 190.03529 \r\nL 307.2279 190.228517 \r\nL 307.916506 187.662642 \r\nL 308.605111 184.28042 \r\nL 309.293717 187.58625 \r\nL 309.982322 214.756364 \r\nL 310.670928 159.533882 \r\nL 311.359533 190.324381 \r\nL 312.048139 195.906994 \r\nL 312.736744 190.838155 \r\nL 313.42535 189.373225 \r\nL 314.113955 191.404355 \r\nL 314.802561 192.051441 \r\nL 315.491166 192.072412 \r\nL 316.179772 194.103542 \r\nL 316.868377 199.702632 \r\nL 317.556983 194.061601 \r\nL 318.245588 191.922623 \r\nL 318.934194 192.969644 \r\nL 319.622799 193.402532 \r\nL 320.311405 192.514287 \r\nL 321.00001 194.979804 \r\nL 321.688616 201.122625 \r\nL 322.377221 195.749716 \r\nL 323.065827 197.282051 \r\nL 323.754432 186.513765 \r\nL 324.443038 195.161048 \r\nL 325.131643 195.217968 \r\nL 325.820249 197.626565 \r\nL 326.508854 201.822137 \r\nL 327.19746 198.221225 \r\nL 327.886065 195.435161 \r\nL 328.574671 196.170622 \r\nL 329.263276 197.211651 \r\nL 329.951882 196.693383 \r\nL 330.640487 197.034901 \r\nL 331.329093 201.110642 \r\nL 332.706304 195.399211 \r\nL 333.39491 200.812563 \r\nL 334.083515 196.567561 \r\nL 334.772121 196.491169 \r\nL 335.460726 197.307515 \r\nL 336.149332 201.094166 \r\nL 336.837937 197.365933 \r\nL 337.526543 195.462123 \r\nL 338.215148 194.994783 \r\nL 338.903754 193.796476 \r\nL 339.592359 193.390549 \r\nL 340.280965 193.487912 \r\nL 340.96957 198.902762 \r\nL 342.346781 189.684785 \r\nL 343.723992 190.059256 \r\nL 344.412598 189.663814 \r\nL 345.101203 191.524186 \r\nL 345.789809 196.353363 \r\nL 347.16702 188.682701 \r\nL 347.855625 189.534996 \r\nL 348.544231 187.369057 \r\nL 349.232836 186.665051 \r\nL 349.921442 186.897223 \r\nL 350.610047 191.706928 \r\nL 351.298653 187.912788 \r\nL 351.987258 180.523728 \r\nL 352.675864 179.87814 \r\nL 353.364469 177.486019 \r\nL 354.053075 176.829946 \r\nL 354.74168 175.375501 \r\nL 355.430286 178.070194 \r\nL 356.118891 171.463029 \r\nL 356.807497 161.025774 \r\nL 357.496102 155.251432 \r\nL 358.184708 153.413529 \r\nL 359.561919 144.429222 \r\nL 360.250524 153.770025 \r\nL 361.627735 134.65553 \r\nL 362.316341 126.20447 \r\nL 363.004947 121.501115 \r\nL 363.693552 120.81808 \r\nL 364.382158 112.870309 \r\nL 365.070763 130.558818 \r\nL 365.759369 134.649539 \r\nL 366.447974 106.41443 \r\nL 367.825185 81.25148 \r\nL 368.513791 75.080199 \r\nL 369.202396 59.638515 \r\nL 369.891002 69.488598 \r\nL 370.579607 41.397286 \r\nL 371.268213 24.841176 \r\nL 371.956818 17.083636 \r\nL 371.956818 17.083636 \r\n\" style=\"fill:none;stroke:#1f77b4;stroke-linecap:square;stroke-width:1.5;\"/>\r\n   </g>\r\n   <g id=\"patch_3\">\r\n    <path d=\"M 52.375 224.64 \r\nL 52.375 7.2 \r\n\" style=\"fill:none;stroke:#000000;stroke-linecap:square;stroke-linejoin:miter;stroke-width:0.8;\"/>\r\n   </g>\r\n   <g id=\"patch_4\">\r\n    <path d=\"M 387.175 224.64 \r\nL 387.175 7.2 \r\n\" style=\"fill:none;stroke:#000000;stroke-linecap:square;stroke-linejoin:miter;stroke-width:0.8;\"/>\r\n   </g>\r\n   <g id=\"patch_5\">\r\n    <path d=\"M 52.375 224.64 \r\nL 387.175 224.64 \r\n\" style=\"fill:none;stroke:#000000;stroke-linecap:square;stroke-linejoin:miter;stroke-width:0.8;\"/>\r\n   </g>\r\n   <g id=\"patch_6\">\r\n    <path d=\"M 52.375 7.2 \r\nL 387.175 7.2 \r\n\" style=\"fill:none;stroke:#000000;stroke-linecap:square;stroke-linejoin:miter;stroke-width:0.8;\"/>\r\n   </g>\r\n  </g>\r\n </g>\r\n <defs>\r\n  <clipPath id=\"p073aeeca7e\">\r\n   <rect height=\"217.44\" width=\"334.8\" x=\"52.375\" y=\"7.2\"/>\r\n  </clipPath>\r\n </defs>\r\n</svg>\r\n",
      "image/png": "[encoded data removed]"
     },
     "metadata": {
      "needs_background": "light"
     }
    }
   ],
   "source": [
    "plt.plot([i for i in range(len(df_india))], df_india_list)"
   ]
  }
 ]
}